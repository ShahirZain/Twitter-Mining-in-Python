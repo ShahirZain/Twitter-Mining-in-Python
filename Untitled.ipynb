{
 "cells": [
  {
   "cell_type": "code",
   "execution_count": 30,
   "metadata": {},
   "outputs": [],
   "source": [
    "import numpy as np\n",
    "import tweepy as tp \n",
    "import jsonpickle as jp\n",
    "import pandas as pd"
   ]
  },
  {
   "cell_type": "code",
   "execution_count": 31,
   "metadata": {},
   "outputs": [],
   "source": [
    "# Consume:\n",
    "CONSUMER_KEY    = '#'\n",
    "CONSUMER_SECRET = '#'\n",
    "\n",
    "# Access:\n",
    "ACCESS_TOKEN  = '#'\n",
    "ACCESS_SECRET = '#'"
   ]
  },
  {
   "cell_type": "code",
   "execution_count": 32,
   "metadata": {},
   "outputs": [],
   "source": [
    "def oauth():\n",
    "    auth = tp.OAuthHandler(CONSUMER_KEY,CONSUMER_SECRET)\n",
    "    auth.set_access_token(ACCESS_TOKEN,ACCESS_SECRET)\n",
    "    api = tp.API(auth)\n",
    "    return api\n",
    "api = oauth()"
   ]
  },
  {
   "cell_type": "code",
   "execution_count": 33,
   "metadata": {},
   "outputs": [],
   "source": [
    "def save_tweets(filepath, api, query, max_tweets=10, lang='en'):\n",
    "    tweetCount = 0\n",
    "    with open(filepath, 'w') as f:\n",
    "          for tweet in tp.Cursor(api.search,query,lang).items(max_tweets):         \n",
    "            f.write(jp.encode(tweet._json, unpicklable=False) + '\\n')\n",
    "            tweetCount += 1\n",
    "    print(\"Downloaded {0} tweets\".format(tweetCount))"
   ]
  },
  {
   "cell_type": "code",
   "execution_count": 34,
   "metadata": {},
   "outputs": [
    {
     "name": "stdout",
     "output_type": "stream",
     "text": [
      "Downloaded 10 tweets\n"
     ]
    }
   ],
   "source": [
    "query = '#ShabEBarat'\n",
    "save_tweets('tweets.json', api, query)"
   ]
  },
  {
   "cell_type": "code",
   "execution_count": 38,
   "metadata": {},
   "outputs": [],
   "source": [
    "def tweetToDF(path):\n",
    "    tweets = list(open(path, 'rt'))\n",
    "    text = []\n",
    "    hashTag =[]\n",
    "    user = []\n",
    "    for t in tweets:\n",
    "        t = jp.decode(t)\n",
    "        text.append(t['text'])\n",
    "        if len(t['entities']['hashtags']) == 0:\n",
    "            hashTag.append(0)\n",
    "        else:\n",
    "            hashTag.append(1)\n",
    "        user.append(t['user']['name'])\n",
    "    d = {\n",
    "         'user': user,\n",
    "        'text': text,\n",
    "         'has_hashtag': hashTag,\n",
    "        }\n",
    "    \n",
    "    return pd.DataFrame(data = d)"
   ]
  },
  {
   "cell_type": "code",
   "execution_count": 39,
   "metadata": {},
   "outputs": [],
   "source": [
    "tweets_df = tweetToDF('tweets.json')"
   ]
  },
  {
   "cell_type": "code",
   "execution_count": 40,
   "metadata": {},
   "outputs": [
    {
     "data": {
      "text/html": [
       "<div>\n",
       "<style scoped>\n",
       "    .dataframe tbody tr th:only-of-type {\n",
       "        vertical-align: middle;\n",
       "    }\n",
       "\n",
       "    .dataframe tbody tr th {\n",
       "        vertical-align: top;\n",
       "    }\n",
       "\n",
       "    .dataframe thead th {\n",
       "        text-align: right;\n",
       "    }\n",
       "</style>\n",
       "<table border=\"1\" class=\"dataframe\">\n",
       "  <thead>\n",
       "    <tr style=\"text-align: right;\">\n",
       "      <th></th>\n",
       "      <th>user</th>\n",
       "      <th>text</th>\n",
       "      <th>has_hashtag</th>\n",
       "    </tr>\n",
       "  </thead>\n",
       "  <tbody>\n",
       "    <tr>\n",
       "      <th>0</th>\n",
       "      <td>Peaceful Memon</td>\n",
       "      <td>RT @engrsafdarmemon: On this Holy Night of #Sh...</td>\n",
       "      <td>1</td>\n",
       "    </tr>\n",
       "    <tr>\n",
       "      <th>1</th>\n",
       "      <td>Hayat Ullah Jan 🇵🇰</td>\n",
       "      <td>May ALLAH forgive all our sins this night &amp;amp...</td>\n",
       "      <td>1</td>\n",
       "    </tr>\n",
       "    <tr>\n",
       "      <th>2</th>\n",
       "      <td>irshad waterxai 🇵🇰</td>\n",
       "      <td>15 Shaban\\nA Blessing Night Is Very Near\\nA Re...</td>\n",
       "      <td>0</td>\n",
       "    </tr>\n",
       "    <tr>\n",
       "      <th>3</th>\n",
       "      <td>Pakistan Zindabad</td>\n",
       "      <td>#ShabeBarat \\n\\n#14th and #15th Shahban \\n\\n15...</td>\n",
       "      <td>1</td>\n",
       "    </tr>\n",
       "    <tr>\n",
       "      <th>4</th>\n",
       "      <td>Najam us Saqib</td>\n",
       "      <td>May This Shab-e-Baraat brings,\\nMercy, Blessin...</td>\n",
       "      <td>0</td>\n",
       "    </tr>\n",
       "  </tbody>\n",
       "</table>\n",
       "</div>"
      ],
      "text/plain": [
       "                 user                                               text  \\\n",
       "0      Peaceful Memon  RT @engrsafdarmemon: On this Holy Night of #Sh...   \n",
       "1  Hayat Ullah Jan 🇵🇰  May ALLAH forgive all our sins this night &amp...   \n",
       "2  irshad waterxai 🇵🇰  15 Shaban\\nA Blessing Night Is Very Near\\nA Re...   \n",
       "3   Pakistan Zindabad  #ShabeBarat \\n\\n#14th and #15th Shahban \\n\\n15...   \n",
       "4      Najam us Saqib  May This Shab-e-Baraat brings,\\nMercy, Blessin...   \n",
       "\n",
       "   has_hashtag  \n",
       "0            1  \n",
       "1            1  \n",
       "2            0  \n",
       "3            1  \n",
       "4            0  "
      ]
     },
     "execution_count": 40,
     "metadata": {},
     "output_type": "execute_result"
    }
   ],
   "source": [
    "tweets_df.head()"
   ]
  },
  {
   "cell_type": "code",
   "execution_count": null,
   "metadata": {},
   "outputs": [],
   "source": []
  }
 ],
 "metadata": {
  "kernelspec": {
   "display_name": "Python 3",
   "language": "python",
   "name": "python3"
  },
  "language_info": {
   "codemirror_mode": {
    "name": "ipython",
    "version": 3
   },
   "file_extension": ".py",
   "mimetype": "text/x-python",
   "name": "python",
   "nbconvert_exporter": "python",
   "pygments_lexer": "ipython3",
   "version": "3.7.1"
  }
 },
 "nbformat": 4,
 "nbformat_minor": 2
}
